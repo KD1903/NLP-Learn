{
 "cells": [
  {
   "cell_type": "markdown",
   "metadata": {},
   "source": [
    "## Download all modules from NLTK"
   ]
  },
  {
   "cell_type": "code",
   "execution_count": 1,
   "metadata": {},
   "outputs": [],
   "source": [
    "import nltk\n",
    "# nltk.download()\n",
    "\n",
    "#set custom path for nltk_data\n",
    "nltk.data.path.append('/mnt/dhruv/nltk_data')"
   ]
  },
  {
   "cell_type": "code",
   "execution_count": 2,
   "metadata": {},
   "outputs": [],
   "source": [
    "paragraph = \"\"\"I have three visions for India. In 3000 years of our history, people from all over\n",
    "            the world have come and invaded us, captured our lands, conquered our minds.\n",
    "            From Alexander onwards, the Greeks, the Turks, the Moguls, the Portuguese, the British,\n",
    "            the French, the Dutch, all of them came and looted us, took over what was ours.\n",
    "            Yet we have not done this to any other nation. We have not conquered anyone.\n",
    "            We have not grabbed their land, their culture,\n",
    "            their history and tried to enforce our way of life on them.\n",
    "            Why? Because we respect the freedom of others. That is why my\n",
    "            first vision is that of freedom. I believe that India got its first vision of\n",
    "            this in 1857, when we started the War of Independence. It is this freedom that\n",
    "            we must protect and nurture and build on. If we are not free, no one will respect us.\n",
    "            My second vision for India's development. For fifty years we have been a developing nation.\n",
    "            It is time we see ourselves as a developed nation. We are among the top 5 nations of the world\n",
    "            in terms of GDP. We have a 10 percent growth rate in most areas. Our poverty levels are falling.\n",
    "            Our achievements are being globally recognised today. Yet we lack the self-confidence to\n",
    "            see ourselves as a developed nation, self-reliant and self-assured. Isn't this incorrect?\n",
    "            I have a third vision. India must stand up to the world. Because I believe that unless India\n",
    "            stands up to the world, no one will respect us. Only strength respects strength. We must be\n",
    "            strong not only as a military power but also as an economic power. Both must go hand-in-hand.\n",
    "            My good fortune was to have worked with three great minds. Dr. Vikram Sarabhai of the Dept. of\n",
    "            space, Professor Satish Dhawan, who succeeded him and Dr. Brahm Prakash, father of nuclear materi\n",
    "            I was lucky to have worked with all three of them closely and consider this the great opportunity\n",
    "            I see four milestones in my career\"\"\""
   ]
  },
  {
   "cell_type": "markdown",
   "metadata": {},
   "source": [
    "# Tokenization"
   ]
  },
  {
   "cell_type": "markdown",
   "metadata": {},
   "source": [
    "### sentance level tokenization"
   ]
  },
  {
   "cell_type": "code",
   "execution_count": 3,
   "metadata": {},
   "outputs": [
    {
     "name": "stdout",
     "output_type": "stream",
     "text": [
      "30\n",
      "['I have three visions for India.', 'In 3000 years of our history, people from all over\\n            the world have come and invaded us, captured our lands, conquered our minds.', 'From Alexander onwards, the Greeks, the Turks, the Moguls, the Portuguese, the British,\\n            the French, the Dutch, all of them came and looted us, took over what was ours.', 'Yet we have not done this to any other nation.', 'We have not conquered anyone.']\n"
     ]
    }
   ],
   "source": [
    "sentances = nltk.sent_tokenize(paragraph)\n",
    "\n",
    "print(len(sentances))\n",
    "print(sentances[:5])"
   ]
  },
  {
   "cell_type": "markdown",
   "metadata": {},
   "source": [
    "### word level tokenization"
   ]
  },
  {
   "cell_type": "code",
   "execution_count": 4,
   "metadata": {},
   "outputs": [
    {
     "name": "stdout",
     "output_type": "stream",
     "text": [
      "394\n",
      "['I', 'have', 'three', 'visions', 'for', 'India', '.', 'In', '3000', 'years']\n"
     ]
    }
   ],
   "source": [
    "words = nltk.word_tokenize(paragraph)\n",
    "\n",
    "print(len(words))\n",
    "print(words[:10])"
   ]
  },
  {
   "cell_type": "markdown",
   "metadata": {},
   "source": [
    "# Stemming"
   ]
  },
  {
   "cell_type": "code",
   "execution_count": 5,
   "metadata": {},
   "outputs": [],
   "source": [
    "from nltk.stem import PorterStemmer\n",
    "from nltk.corpus import stopwords\n",
    "\n",
    "stemmer = PorterStemmer()"
   ]
  },
  {
   "cell_type": "code",
   "execution_count": 6,
   "metadata": {},
   "outputs": [
    {
     "name": "stdout",
     "output_type": "stream",
     "text": [
      "CPU times: user 36.1 ms, sys: 4.05 ms, total: 40.2 ms\n",
      "Wall time: 38.6 ms\n"
     ]
    },
    {
     "data": {
      "text/plain": [
       "['i three vision india .',\n",
       " 'in 3000 year histori , peopl world come invad us , captur land , conquer mind .',\n",
       " 'from alexand onward , greek , turk , mogul , portugues , british , french , dutch , came loot us , took .',\n",
       " 'yet done nation .',\n",
       " 'we conquer anyon .']"
      ]
     },
     "execution_count": 6,
     "metadata": {},
     "output_type": "execute_result"
    }
   ],
   "source": [
    "%%time\n",
    "#get all the stop words from NLTK with `set(stopwords.words('english'))`\n",
    "#and for al non stop words apply stemming and join the words in to sentances again\n",
    "\n",
    "sentances = nltk.sent_tokenize(paragraph)\n",
    "\n",
    "for i in range(len(sentances)):\n",
    "    words = nltk.word_tokenize(sentances[i])\n",
    "    words = [stemmer.stem(word) for word in words if word not in set(stopwords.words('english'))]\n",
    "    sentances[i] = ' '.join(words)\n",
    "    \n",
    "sentances[:5]"
   ]
  },
  {
   "cell_type": "markdown",
   "metadata": {},
   "source": [
    "# Lemmatization"
   ]
  },
  {
   "cell_type": "code",
   "execution_count": 7,
   "metadata": {},
   "outputs": [],
   "source": [
    "from nltk.stem import WordNetLemmatizer\n",
    "from nltk.corpus import stopwords\n",
    "\n",
    "lemmatizer = WordNetLemmatizer()"
   ]
  },
  {
   "cell_type": "code",
   "execution_count": 8,
   "metadata": {},
   "outputs": [
    {
     "name": "stdout",
     "output_type": "stream",
     "text": [
      "CPU times: user 2.32 s, sys: 128 ms, total: 2.45 s\n",
      "Wall time: 2.45 s\n"
     ]
    },
    {
     "data": {
      "text/plain": [
       "['I three vision India .',\n",
       " 'In 3000 year history , people world come invaded u , captured land , conquered mind .',\n",
       " 'From Alexander onwards , Greeks , Turks , Moguls , Portuguese , British , French , Dutch , came looted u , took .',\n",
       " 'Yet done nation .',\n",
       " 'We conquered anyone .']"
      ]
     },
     "execution_count": 8,
     "metadata": {},
     "output_type": "execute_result"
    }
   ],
   "source": [
    "%%time\n",
    "#get all the stop words from NLTK with `set(stopwords.words('english'))`\n",
    "#and for al non stop words apply stemming and join the words in to sentances again\n",
    "\n",
    "sentances = nltk.sent_tokenize(paragraph)\n",
    "\n",
    "for i in range(len(sentances)):\n",
    "    words = nltk.word_tokenize(sentances[i])\n",
    "    words = [lemmatizer.lemmatize(word) for word in words if word not in set(stopwords.words('english'))]\n",
    "    sentances[i] = ' '.join(words)\n",
    "    \n",
    "sentances[:5]"
   ]
  },
  {
   "cell_type": "code",
   "execution_count": null,
   "metadata": {},
   "outputs": [],
   "source": []
  }
 ],
 "metadata": {
  "kernelspec": {
   "display_name": "env",
   "language": "python",
   "name": "python3"
  },
  "language_info": {
   "codemirror_mode": {
    "name": "ipython",
    "version": 3
   },
   "file_extension": ".py",
   "mimetype": "text/x-python",
   "name": "python",
   "nbconvert_exporter": "python",
   "pygments_lexer": "ipython3",
   "version": "3.8.10"
  }
 },
 "nbformat": 4,
 "nbformat_minor": 2
}
